{
 "cells": [
  {
   "cell_type": "code",
   "execution_count": 1,
   "metadata": {},
   "outputs": [],
   "source": [
    "%matplotlib inline\n",
    "%load_ext autoreload\n",
    "%autoreload 2"
   ]
  },
  {
   "cell_type": "markdown",
   "metadata": {},
   "source": [
    "# Generacion del dataset"
   ]
  },
  {
   "cell_type": "markdown",
   "metadata": {},
   "source": [
    "La idea es genera un unico dataset todos los datos necesario para relizar el trabjo practico. Para esto vamos a descargar y descomprimir los datasets de speechs y songs. Luego recorremos una lista de paths, uno por cada archivo de audio y generamos un csv donde las columnas se extraen de la siguiente forma:\n",
    "\n",
    "* Se toman los features que estan definitos en el nombre del archivo separados por el caracter **-**.\n",
    "* Se usando la libreria opensmile. Esta extrae features del archivo de audio.\n",
    "\n",
    "El objeto Dataset se encarga de realziar todas esta tareas."
   ]
  },
  {
   "cell_type": "markdown",
   "metadata": {},
   "source": [
    "### Librerias"
   ]
  },
  {
   "cell_type": "code",
   "execution_count": 2,
   "metadata": {},
   "outputs": [],
   "source": [
    "import sys\n",
    "sys.path.append('../src')\n",
    "\n",
    "import pandas as pd\n",
    "from data import Dataset"
   ]
  },
  {
   "cell_type": "markdown",
   "metadata": {
    "id": "ejdt97nA_xkK"
   },
   "source": [
    "### Generación de Dataset"
   ]
  },
  {
   "cell_type": "markdown",
   "metadata": {},
   "source": [
    "Creamos el dataset. Este descarga los datos por unica vez."
   ]
  },
  {
   "cell_type": "code",
   "execution_count": 3,
   "metadata": {},
   "outputs": [
    {
     "name": "stdout",
     "output_type": "stream",
     "text": [
      "Download https://zenodo.org/record/1188976/files/Audio_Speech_Actors_01-24.zip dataset...\n",
      "Download https://zenodo.org/record/1188976/files/Audio_Song_Actors_01-24.zip dataset...\n"
     ]
    }
   ],
   "source": [
    "speech_dataset = Dataset(dataset_name='speech')\n",
    "song_dataset   = Dataset(dataset_name='song')"
   ]
  },
  {
   "cell_type": "markdown",
   "metadata": {},
   "source": [
    "Consultamos todas las observacioens de cada dataset:"
   ]
  },
  {
   "cell_type": "code",
   "execution_count": 4,
   "metadata": {},
   "outputs": [
    {
     "name": "stderr",
     "output_type": "stream",
     "text": [
      "100%|██████████| 1440/1440 [02:05<00:00, 11.44it/s]\n"
     ]
    }
   ],
   "source": [
    "speech_examples = speech_dataset.get_all()"
   ]
  },
  {
   "cell_type": "code",
   "execution_count": 5,
   "metadata": {},
   "outputs": [
    {
     "name": "stderr",
     "output_type": "stream",
     "text": [
      "100%|██████████| 1012/1012 [01:53<00:00,  8.89it/s]\n"
     ]
    }
   ],
   "source": [
    "song_examples = song_dataset.get_all()"
   ]
  },
  {
   "cell_type": "markdown",
   "metadata": {},
   "source": [
    "Generamos un unico dataset:"
   ]
  },
  {
   "cell_type": "code",
   "execution_count": 6,
   "metadata": {},
   "outputs": [],
   "source": [
    "dataset = pd.concat([speech_examples, song_examples])"
   ]
  },
  {
   "cell_type": "code",
   "execution_count": 7,
   "metadata": {},
   "outputs": [],
   "source": [
    "dataset.to_csv('dataset.csv')"
   ]
  },
  {
   "cell_type": "code",
   "execution_count": 8,
   "metadata": {},
   "outputs": [
    {
     "data": {
      "text/html": [
       "<div>\n",
       "<style scoped>\n",
       "    .dataframe tbody tr th:only-of-type {\n",
       "        vertical-align: middle;\n",
       "    }\n",
       "\n",
       "    .dataframe tbody tr th {\n",
       "        vertical-align: top;\n",
       "    }\n",
       "\n",
       "    .dataframe thead th {\n",
       "        text-align: right;\n",
       "    }\n",
       "</style>\n",
       "<table border=\"1\" class=\"dataframe\">\n",
       "  <thead>\n",
       "    <tr style=\"text-align: right;\">\n",
       "      <th></th>\n",
       "      <th>file_path</th>\n",
       "      <th>modality</th>\n",
       "      <th>vocal_channel</th>\n",
       "      <th>emotion</th>\n",
       "      <th>emotional_intensity</th>\n",
       "      <th>statement</th>\n",
       "      <th>repetition</th>\n",
       "      <th>actor</th>\n",
       "      <th>file</th>\n",
       "      <th>start</th>\n",
       "      <th>...</th>\n",
       "      <th>slopeUV0-500_sma3nz_amean</th>\n",
       "      <th>slopeUV500-1500_sma3nz_amean</th>\n",
       "      <th>spectralFluxUV_sma3nz_amean</th>\n",
       "      <th>loudnessPeaksPerSec</th>\n",
       "      <th>VoicedSegmentsPerSec</th>\n",
       "      <th>MeanVoicedSegmentLengthSec</th>\n",
       "      <th>StddevVoicedSegmentLengthSec</th>\n",
       "      <th>MeanUnvoicedSegmentLength</th>\n",
       "      <th>StddevUnvoicedSegmentLength</th>\n",
       "      <th>equivalentSoundLevel_dBp</th>\n",
       "    </tr>\n",
       "  </thead>\n",
       "  <tbody>\n",
       "    <tr>\n",
       "      <th>0</th>\n",
       "      <td>./speech/Actor_23/03-01-04-02-01-01-23.wav</td>\n",
       "      <td>03</td>\n",
       "      <td>01</td>\n",
       "      <td>04</td>\n",
       "      <td>02</td>\n",
       "      <td>01</td>\n",
       "      <td>01</td>\n",
       "      <td>23</td>\n",
       "      <td>./speech/Actor_23/03-01-04-02-01-01-23.wav</td>\n",
       "      <td>0 days</td>\n",
       "      <td>...</td>\n",
       "      <td>0.044101</td>\n",
       "      <td>0.007548</td>\n",
       "      <td>0.015374</td>\n",
       "      <td>1.877934</td>\n",
       "      <td>1.425178</td>\n",
       "      <td>0.251667</td>\n",
       "      <td>0.247482</td>\n",
       "      <td>0.367143</td>\n",
       "      <td>0.419309</td>\n",
       "      <td>-39.951572</td>\n",
       "    </tr>\n",
       "    <tr>\n",
       "      <th>1</th>\n",
       "      <td>./speech/Actor_23/03-01-04-02-02-02-23.wav</td>\n",
       "      <td>03</td>\n",
       "      <td>01</td>\n",
       "      <td>04</td>\n",
       "      <td>02</td>\n",
       "      <td>02</td>\n",
       "      <td>02</td>\n",
       "      <td>23</td>\n",
       "      <td>./speech/Actor_23/03-01-04-02-02-02-23.wav</td>\n",
       "      <td>0 days</td>\n",
       "      <td>...</td>\n",
       "      <td>0.011092</td>\n",
       "      <td>0.008020</td>\n",
       "      <td>0.014090</td>\n",
       "      <td>1.694915</td>\n",
       "      <td>0.856531</td>\n",
       "      <td>0.357500</td>\n",
       "      <td>0.072241</td>\n",
       "      <td>0.634000</td>\n",
       "      <td>0.483429</td>\n",
       "      <td>-42.310856</td>\n",
       "    </tr>\n",
       "    <tr>\n",
       "      <th>2</th>\n",
       "      <td>./speech/Actor_23/03-01-06-02-01-02-23.wav</td>\n",
       "      <td>03</td>\n",
       "      <td>01</td>\n",
       "      <td>06</td>\n",
       "      <td>02</td>\n",
       "      <td>01</td>\n",
       "      <td>02</td>\n",
       "      <td>23</td>\n",
       "      <td>./speech/Actor_23/03-01-06-02-01-02-23.wav</td>\n",
       "      <td>0 days</td>\n",
       "      <td>...</td>\n",
       "      <td>0.101003</td>\n",
       "      <td>0.014311</td>\n",
       "      <td>0.014765</td>\n",
       "      <td>2.339181</td>\n",
       "      <td>0.593472</td>\n",
       "      <td>0.635000</td>\n",
       "      <td>0.335000</td>\n",
       "      <td>0.683333</td>\n",
       "      <td>0.449024</td>\n",
       "      <td>-34.312801</td>\n",
       "    </tr>\n",
       "    <tr>\n",
       "      <th>3</th>\n",
       "      <td>./speech/Actor_23/03-01-07-01-01-02-23.wav</td>\n",
       "      <td>03</td>\n",
       "      <td>01</td>\n",
       "      <td>07</td>\n",
       "      <td>01</td>\n",
       "      <td>01</td>\n",
       "      <td>02</td>\n",
       "      <td>23</td>\n",
       "      <td>./speech/Actor_23/03-01-07-01-01-02-23.wav</td>\n",
       "      <td>0 days</td>\n",
       "      <td>...</td>\n",
       "      <td>0.062009</td>\n",
       "      <td>0.011443</td>\n",
       "      <td>0.021647</td>\n",
       "      <td>2.528090</td>\n",
       "      <td>1.424501</td>\n",
       "      <td>0.180000</td>\n",
       "      <td>0.099800</td>\n",
       "      <td>0.416667</td>\n",
       "      <td>0.422834</td>\n",
       "      <td>-44.573288</td>\n",
       "    </tr>\n",
       "    <tr>\n",
       "      <th>4</th>\n",
       "      <td>./speech/Actor_23/03-01-03-01-01-02-23.wav</td>\n",
       "      <td>03</td>\n",
       "      <td>01</td>\n",
       "      <td>03</td>\n",
       "      <td>01</td>\n",
       "      <td>01</td>\n",
       "      <td>02</td>\n",
       "      <td>23</td>\n",
       "      <td>./speech/Actor_23/03-01-03-01-01-02-23.wav</td>\n",
       "      <td>0 days</td>\n",
       "      <td>...</td>\n",
       "      <td>0.032799</td>\n",
       "      <td>0.011666</td>\n",
       "      <td>0.009868</td>\n",
       "      <td>2.153846</td>\n",
       "      <td>0.625000</td>\n",
       "      <td>0.570000</td>\n",
       "      <td>0.320000</td>\n",
       "      <td>0.670000</td>\n",
       "      <td>0.452548</td>\n",
       "      <td>-36.173256</td>\n",
       "    </tr>\n",
       "  </tbody>\n",
       "</table>\n",
       "<p>5 rows × 99 columns</p>\n",
       "</div>"
      ],
      "text/plain": [
       "                                    file_path modality vocal_channel emotion  \\\n",
       "0  ./speech/Actor_23/03-01-04-02-01-01-23.wav       03            01      04   \n",
       "1  ./speech/Actor_23/03-01-04-02-02-02-23.wav       03            01      04   \n",
       "2  ./speech/Actor_23/03-01-06-02-01-02-23.wav       03            01      06   \n",
       "3  ./speech/Actor_23/03-01-07-01-01-02-23.wav       03            01      07   \n",
       "4  ./speech/Actor_23/03-01-03-01-01-02-23.wav       03            01      03   \n",
       "\n",
       "  emotional_intensity statement repetition actor  \\\n",
       "0                  02        01         01    23   \n",
       "1                  02        02         02    23   \n",
       "2                  02        01         02    23   \n",
       "3                  01        01         02    23   \n",
       "4                  01        01         02    23   \n",
       "\n",
       "                                         file  start  ...  \\\n",
       "0  ./speech/Actor_23/03-01-04-02-01-01-23.wav 0 days  ...   \n",
       "1  ./speech/Actor_23/03-01-04-02-02-02-23.wav 0 days  ...   \n",
       "2  ./speech/Actor_23/03-01-06-02-01-02-23.wav 0 days  ...   \n",
       "3  ./speech/Actor_23/03-01-07-01-01-02-23.wav 0 days  ...   \n",
       "4  ./speech/Actor_23/03-01-03-01-01-02-23.wav 0 days  ...   \n",
       "\n",
       "  slopeUV0-500_sma3nz_amean  slopeUV500-1500_sma3nz_amean  \\\n",
       "0                  0.044101                      0.007548   \n",
       "1                  0.011092                      0.008020   \n",
       "2                  0.101003                      0.014311   \n",
       "3                  0.062009                      0.011443   \n",
       "4                  0.032799                      0.011666   \n",
       "\n",
       "   spectralFluxUV_sma3nz_amean  loudnessPeaksPerSec  VoicedSegmentsPerSec  \\\n",
       "0                     0.015374             1.877934              1.425178   \n",
       "1                     0.014090             1.694915              0.856531   \n",
       "2                     0.014765             2.339181              0.593472   \n",
       "3                     0.021647             2.528090              1.424501   \n",
       "4                     0.009868             2.153846              0.625000   \n",
       "\n",
       "   MeanVoicedSegmentLengthSec  StddevVoicedSegmentLengthSec  \\\n",
       "0                    0.251667                      0.247482   \n",
       "1                    0.357500                      0.072241   \n",
       "2                    0.635000                      0.335000   \n",
       "3                    0.180000                      0.099800   \n",
       "4                    0.570000                      0.320000   \n",
       "\n",
       "   MeanUnvoicedSegmentLength  StddevUnvoicedSegmentLength  \\\n",
       "0                   0.367143                     0.419309   \n",
       "1                   0.634000                     0.483429   \n",
       "2                   0.683333                     0.449024   \n",
       "3                   0.416667                     0.422834   \n",
       "4                   0.670000                     0.452548   \n",
       "\n",
       "   equivalentSoundLevel_dBp  \n",
       "0                -39.951572  \n",
       "1                -42.310856  \n",
       "2                -34.312801  \n",
       "3                -44.573288  \n",
       "4                -36.173256  \n",
       "\n",
       "[5 rows x 99 columns]"
      ]
     },
     "execution_count": 8,
     "metadata": {},
     "output_type": "execute_result"
    }
   ],
   "source": [
    "dataset.head()"
   ]
  }
 ],
 "metadata": {
  "colab": {
   "collapsed_sections": [],
   "name": "TP2-2021.ipynb",
   "provenance": [],
   "toc_visible": true
  },
  "kernelspec": {
   "display_name": "Python 3",
   "language": "python",
   "name": "python3"
  },
  "language_info": {
   "codemirror_mode": {
    "name": "ipython",
    "version": 3
   },
   "file_extension": ".py",
   "mimetype": "text/x-python",
   "name": "python",
   "nbconvert_exporter": "python",
   "pygments_lexer": "ipython3",
   "version": "3.7.9"
  }
 },
 "nbformat": 4,
 "nbformat_minor": 4
}
