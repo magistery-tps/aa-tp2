{
 "cells": [
  {
   "cell_type": "code",
   "execution_count": 1,
   "metadata": {},
   "outputs": [],
   "source": [
    "%matplotlib inline\n",
    "%load_ext autoreload\n",
    "%autoreload 2"
   ]
  },
  {
   "cell_type": "code",
   "execution_count": 2,
   "metadata": {},
   "outputs": [],
   "source": [
    "# debian/ubuntu: !sudo apt-get install sox\n",
    "# arch/manjaro: !yay -S sox"
   ]
  },
  {
   "cell_type": "code",
   "execution_count": 3,
   "metadata": {},
   "outputs": [],
   "source": [
    "import sys\n",
    "sys.path.append('../src')\n",
    "\n",
    "import pandas as pd\n",
    "from data import Dataset"
   ]
  },
  {
   "cell_type": "markdown",
   "metadata": {
    "id": "ejdt97nA_xkK"
   },
   "source": [
    "### Dataset"
   ]
  },
  {
   "cell_type": "markdown",
   "metadata": {},
   "source": [
    "Creamos el dataset: Este ya se encarga de bajar los datos por unica vez."
   ]
  },
  {
   "cell_type": "code",
   "execution_count": 4,
   "metadata": {},
   "outputs": [
    {
     "name": "stdout",
     "output_type": "stream",
     "text": [
      "Download https://zenodo.org/record/1188976/files/Audio_Speech_Actors_01-24.zip dataset...\n",
      "Download https://zenodo.org/record/1188976/files/Audio_Song_Actors_01-24.zip dataset...\n"
     ]
    }
   ],
   "source": [
    "speech_dataset = Dataset(dataset_name='speech')\n",
    "song_dataset   = Dataset(dataset_name='song')"
   ]
  },
  {
   "cell_type": "markdown",
   "metadata": {},
   "source": [
    "Le pedimos que nos devuelve todos los ejemplo del dataset:"
   ]
  },
  {
   "cell_type": "code",
   "execution_count": 5,
   "metadata": {},
   "outputs": [
    {
     "name": "stderr",
     "output_type": "stream",
     "text": [
      "100%|██████████| 1440/1440 [04:20<00:00,  5.52it/s]\n"
     ]
    }
   ],
   "source": [
    "speech_examples = speech_dataset.get_all()"
   ]
  },
  {
   "cell_type": "code",
   "execution_count": 6,
   "metadata": {},
   "outputs": [
    {
     "name": "stderr",
     "output_type": "stream",
     "text": [
      "100%|██████████| 1012/1012 [04:07<00:00,  4.09it/s]\n"
     ]
    }
   ],
   "source": [
    "song_examples = song_dataset.get_all()"
   ]
  },
  {
   "cell_type": "code",
   "execution_count": 7,
   "metadata": {},
   "outputs": [],
   "source": [
    "dataset = pd.concat([speech_examples, song_examples])"
   ]
  },
  {
   "cell_type": "code",
   "execution_count": 8,
   "metadata": {},
   "outputs": [],
   "source": [
    "dataset.to_csv('dataset.csv')"
   ]
  },
  {
   "cell_type": "code",
   "execution_count": 9,
   "metadata": {},
   "outputs": [
    {
     "data": {
      "text/html": [
       "<div>\n",
       "<style scoped>\n",
       "    .dataframe tbody tr th:only-of-type {\n",
       "        vertical-align: middle;\n",
       "    }\n",
       "\n",
       "    .dataframe tbody tr th {\n",
       "        vertical-align: top;\n",
       "    }\n",
       "\n",
       "    .dataframe thead th {\n",
       "        text-align: right;\n",
       "    }\n",
       "</style>\n",
       "<table border=\"1\" class=\"dataframe\">\n",
       "  <thead>\n",
       "    <tr style=\"text-align: right;\">\n",
       "      <th></th>\n",
       "      <th>file_path</th>\n",
       "      <th>modality</th>\n",
       "      <th>vocal_channel</th>\n",
       "      <th>emotion</th>\n",
       "      <th>emotional_intensity</th>\n",
       "      <th>statement</th>\n",
       "      <th>repetition</th>\n",
       "      <th>actor</th>\n",
       "      <th>file</th>\n",
       "      <th>start</th>\n",
       "      <th>...</th>\n",
       "      <th>slopeUV0-500_sma3nz_amean</th>\n",
       "      <th>slopeUV500-1500_sma3nz_amean</th>\n",
       "      <th>spectralFluxUV_sma3nz_amean</th>\n",
       "      <th>loudnessPeaksPerSec</th>\n",
       "      <th>VoicedSegmentsPerSec</th>\n",
       "      <th>MeanVoicedSegmentLengthSec</th>\n",
       "      <th>StddevVoicedSegmentLengthSec</th>\n",
       "      <th>MeanUnvoicedSegmentLength</th>\n",
       "      <th>StddevUnvoicedSegmentLength</th>\n",
       "      <th>equivalentSoundLevel_dBp</th>\n",
       "    </tr>\n",
       "  </thead>\n",
       "  <tbody>\n",
       "    <tr>\n",
       "      <th>0</th>\n",
       "      <td>./speech/Actor_22/03-01-03-02-01-01-22.wav</td>\n",
       "      <td>03</td>\n",
       "      <td>01</td>\n",
       "      <td>03</td>\n",
       "      <td>02</td>\n",
       "      <td>01</td>\n",
       "      <td>01</td>\n",
       "      <td>22</td>\n",
       "      <td>./speech/Actor_22/03-01-03-02-01-01-22.wav</td>\n",
       "      <td>0 days</td>\n",
       "      <td>...</td>\n",
       "      <td>0.066358</td>\n",
       "      <td>0.008518</td>\n",
       "      <td>0.010820</td>\n",
       "      <td>1.881720</td>\n",
       "      <td>0.817439</td>\n",
       "      <td>0.530000</td>\n",
       "      <td>0.551604</td>\n",
       "      <td>0.666667</td>\n",
       "      <td>0.459879</td>\n",
       "      <td>-31.795376</td>\n",
       "    </tr>\n",
       "    <tr>\n",
       "      <th>1</th>\n",
       "      <td>./speech/Actor_22/03-01-04-01-01-02-22.wav</td>\n",
       "      <td>03</td>\n",
       "      <td>01</td>\n",
       "      <td>04</td>\n",
       "      <td>01</td>\n",
       "      <td>01</td>\n",
       "      <td>02</td>\n",
       "      <td>22</td>\n",
       "      <td>./speech/Actor_22/03-01-04-01-01-02-22.wav</td>\n",
       "      <td>0 days</td>\n",
       "      <td>...</td>\n",
       "      <td>0.061844</td>\n",
       "      <td>0.008044</td>\n",
       "      <td>0.008713</td>\n",
       "      <td>2.168022</td>\n",
       "      <td>1.373626</td>\n",
       "      <td>0.272000</td>\n",
       "      <td>0.198232</td>\n",
       "      <td>0.361667</td>\n",
       "      <td>0.452969</td>\n",
       "      <td>-45.019146</td>\n",
       "    </tr>\n",
       "    <tr>\n",
       "      <th>2</th>\n",
       "      <td>./speech/Actor_22/03-01-06-01-01-02-22.wav</td>\n",
       "      <td>03</td>\n",
       "      <td>01</td>\n",
       "      <td>06</td>\n",
       "      <td>01</td>\n",
       "      <td>01</td>\n",
       "      <td>02</td>\n",
       "      <td>22</td>\n",
       "      <td>./speech/Actor_22/03-01-06-01-01-02-22.wav</td>\n",
       "      <td>0 days</td>\n",
       "      <td>...</td>\n",
       "      <td>0.056918</td>\n",
       "      <td>0.007538</td>\n",
       "      <td>0.011077</td>\n",
       "      <td>2.506964</td>\n",
       "      <td>1.412429</td>\n",
       "      <td>0.280000</td>\n",
       "      <td>0.147105</td>\n",
       "      <td>0.408000</td>\n",
       "      <td>0.460452</td>\n",
       "      <td>-38.242844</td>\n",
       "    </tr>\n",
       "    <tr>\n",
       "      <th>3</th>\n",
       "      <td>./speech/Actor_22/03-01-06-02-02-01-22.wav</td>\n",
       "      <td>03</td>\n",
       "      <td>01</td>\n",
       "      <td>06</td>\n",
       "      <td>02</td>\n",
       "      <td>02</td>\n",
       "      <td>01</td>\n",
       "      <td>22</td>\n",
       "      <td>./speech/Actor_22/03-01-06-02-02-01-22.wav</td>\n",
       "      <td>0 days</td>\n",
       "      <td>...</td>\n",
       "      <td>0.068252</td>\n",
       "      <td>0.005815</td>\n",
       "      <td>0.018841</td>\n",
       "      <td>1.912568</td>\n",
       "      <td>0.831025</td>\n",
       "      <td>0.493333</td>\n",
       "      <td>0.084984</td>\n",
       "      <td>0.683333</td>\n",
       "      <td>0.385948</td>\n",
       "      <td>-30.898689</td>\n",
       "    </tr>\n",
       "    <tr>\n",
       "      <th>4</th>\n",
       "      <td>./speech/Actor_22/03-01-03-01-02-01-22.wav</td>\n",
       "      <td>03</td>\n",
       "      <td>01</td>\n",
       "      <td>03</td>\n",
       "      <td>01</td>\n",
       "      <td>02</td>\n",
       "      <td>01</td>\n",
       "      <td>22</td>\n",
       "      <td>./speech/Actor_22/03-01-03-01-02-01-22.wav</td>\n",
       "      <td>0 days</td>\n",
       "      <td>...</td>\n",
       "      <td>0.060040</td>\n",
       "      <td>0.008237</td>\n",
       "      <td>0.007540</td>\n",
       "      <td>2.292264</td>\n",
       "      <td>1.162791</td>\n",
       "      <td>0.317500</td>\n",
       "      <td>0.169761</td>\n",
       "      <td>0.416000</td>\n",
       "      <td>0.461415</td>\n",
       "      <td>-43.476620</td>\n",
       "    </tr>\n",
       "  </tbody>\n",
       "</table>\n",
       "<p>5 rows × 99 columns</p>\n",
       "</div>"
      ],
      "text/plain": [
       "                                    file_path modality vocal_channel emotion  \\\n",
       "0  ./speech/Actor_22/03-01-03-02-01-01-22.wav       03            01      03   \n",
       "1  ./speech/Actor_22/03-01-04-01-01-02-22.wav       03            01      04   \n",
       "2  ./speech/Actor_22/03-01-06-01-01-02-22.wav       03            01      06   \n",
       "3  ./speech/Actor_22/03-01-06-02-02-01-22.wav       03            01      06   \n",
       "4  ./speech/Actor_22/03-01-03-01-02-01-22.wav       03            01      03   \n",
       "\n",
       "  emotional_intensity statement repetition actor  \\\n",
       "0                  02        01         01    22   \n",
       "1                  01        01         02    22   \n",
       "2                  01        01         02    22   \n",
       "3                  02        02         01    22   \n",
       "4                  01        02         01    22   \n",
       "\n",
       "                                         file  start  ...  \\\n",
       "0  ./speech/Actor_22/03-01-03-02-01-01-22.wav 0 days  ...   \n",
       "1  ./speech/Actor_22/03-01-04-01-01-02-22.wav 0 days  ...   \n",
       "2  ./speech/Actor_22/03-01-06-01-01-02-22.wav 0 days  ...   \n",
       "3  ./speech/Actor_22/03-01-06-02-02-01-22.wav 0 days  ...   \n",
       "4  ./speech/Actor_22/03-01-03-01-02-01-22.wav 0 days  ...   \n",
       "\n",
       "  slopeUV0-500_sma3nz_amean  slopeUV500-1500_sma3nz_amean  \\\n",
       "0                  0.066358                      0.008518   \n",
       "1                  0.061844                      0.008044   \n",
       "2                  0.056918                      0.007538   \n",
       "3                  0.068252                      0.005815   \n",
       "4                  0.060040                      0.008237   \n",
       "\n",
       "   spectralFluxUV_sma3nz_amean  loudnessPeaksPerSec  VoicedSegmentsPerSec  \\\n",
       "0                     0.010820             1.881720              0.817439   \n",
       "1                     0.008713             2.168022              1.373626   \n",
       "2                     0.011077             2.506964              1.412429   \n",
       "3                     0.018841             1.912568              0.831025   \n",
       "4                     0.007540             2.292264              1.162791   \n",
       "\n",
       "   MeanVoicedSegmentLengthSec  StddevVoicedSegmentLengthSec  \\\n",
       "0                    0.530000                      0.551604   \n",
       "1                    0.272000                      0.198232   \n",
       "2                    0.280000                      0.147105   \n",
       "3                    0.493333                      0.084984   \n",
       "4                    0.317500                      0.169761   \n",
       "\n",
       "   MeanUnvoicedSegmentLength  StddevUnvoicedSegmentLength  \\\n",
       "0                   0.666667                     0.459879   \n",
       "1                   0.361667                     0.452969   \n",
       "2                   0.408000                     0.460452   \n",
       "3                   0.683333                     0.385948   \n",
       "4                   0.416000                     0.461415   \n",
       "\n",
       "   equivalentSoundLevel_dBp  \n",
       "0                -31.795376  \n",
       "1                -45.019146  \n",
       "2                -38.242844  \n",
       "3                -30.898689  \n",
       "4                -43.476620  \n",
       "\n",
       "[5 rows x 99 columns]"
      ]
     },
     "execution_count": 9,
     "metadata": {},
     "output_type": "execute_result"
    }
   ],
   "source": [
    "dataset.head()"
   ]
  }
 ],
 "metadata": {
  "colab": {
   "collapsed_sections": [],
   "name": "TP2-2021.ipynb",
   "provenance": [],
   "toc_visible": true
  },
  "kernelspec": {
   "display_name": "Python 3",
   "language": "python",
   "name": "python3"
  },
  "language_info": {
   "codemirror_mode": {
    "name": "ipython",
    "version": 3
   },
   "file_extension": ".py",
   "mimetype": "text/x-python",
   "name": "python",
   "nbconvert_exporter": "python",
   "pygments_lexer": "ipython3",
   "version": "3.8.5"
  }
 },
 "nbformat": 4,
 "nbformat_minor": 4
}
