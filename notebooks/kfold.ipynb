{
 "cells": [
  {
   "cell_type": "code",
   "execution_count": 163,
   "metadata": {},
   "outputs": [
    {
     "name": "stdout",
     "output_type": "stream",
     "text": [
      "The autoreload extension is already loaded. To reload it, use:\n",
      "  %reload_ext autoreload\n"
     ]
    }
   ],
   "source": [
    "%matplotlib inline\n",
    "%load_ext autoreload\n",
    "%autoreload 2"
   ]
  },
  {
   "cell_type": "code",
   "execution_count": 164,
   "metadata": {},
   "outputs": [],
   "source": [
    "import warnings\n",
    "warnings.filterwarnings('ignore')"
   ]
  },
  {
   "cell_type": "code",
   "execution_count": 204,
   "metadata": {},
   "outputs": [],
   "source": [
    "import sys\n",
    "sys.path.append('../src')\n",
    "\n",
    "import pandas as pd\n",
    "import numpy as np\n",
    "\n",
    "from sklearn.ensemble        import RandomForestClassifier, \\\n",
    "                                    AdaBoostClassifier, \\\n",
    "                                    GradientBoostingClassifier\n",
    "from sklearn.model_selection import train_test_split,LeaveOneGroupOut, KFold, ShuffleSplit\n",
    "from sklearn.metrics         import accuracy_score\n",
    "\n",
    "from data   import Dataset\n",
    "from metric import plot_learning_curve"
   ]
  },
  {
   "cell_type": "code",
   "execution_count": 166,
   "metadata": {},
   "outputs": [],
   "source": [
    "def exclude_columns(df, columns): return df.drop(columns, axis=1)"
   ]
  },
  {
   "cell_type": "code",
   "execution_count": 7,
   "metadata": {},
   "outputs": [],
   "source": [
    "dataset = pd.read_csv('dataset.csv')"
   ]
  },
  {
   "cell_type": "markdown",
   "metadata": {},
   "source": [
    "Quitamos columnas que no vamos usar como:"
   ]
  },
  {
   "cell_type": "code",
   "execution_count": 11,
   "metadata": {},
   "outputs": [],
   "source": [
    "example_columns  = set(dataset.columns) - set([\n",
    "    'Unnamed: 0',\n",
    "    'file',\n",
    "    'modality',\n",
    "    'statement',\n",
    "    'repetition',\n",
    "    'start',\n",
    "    'end'\n",
    "])\n",
    "target_column = 'emotion'\n",
    "\n",
    "# Esta dos columnas se usan mas adelantes para hacer fold de los actores \n",
    "# y luego para agregar ruido a los audios.\n",
    "special_columns = ['actor', 'file_path']"
   ]
  },
  {
   "cell_type": "markdown",
   "metadata": {},
   "source": [
    "Luego codificamos **vocal_channel** como dummy y separamos en features de target:"
   ]
  },
  {
   "cell_type": "code",
   "execution_count": 12,
   "metadata": {},
   "outputs": [
    {
     "data": {
      "text/plain": [
       "1    1440\n",
       "2    1012\n",
       "Name: vocal_channel, dtype: int64"
      ]
     },
     "execution_count": 12,
     "metadata": {},
     "output_type": "execute_result"
    }
   ],
   "source": [
    "dataset['vocal_channel'].value_counts()"
   ]
  },
  {
   "cell_type": "code",
   "execution_count": 13,
   "metadata": {},
   "outputs": [],
   "source": [
    "def features_target(df):\n",
    "    df = df[example_columns]\n",
    "    df['vocal_channel'] = pd.get_dummies(df['vocal_channel'])\n",
    "    return exclude_columns(df, [target_column]),  df[[target_column]]"
   ]
  },
  {
   "cell_type": "code",
   "execution_count": 14,
   "metadata": {},
   "outputs": [],
   "source": [
    "features, target = features_target(dataset)"
   ]
  },
  {
   "cell_type": "code",
   "execution_count": 15,
   "metadata": {},
   "outputs": [
    {
     "data": {
      "text/plain": [
       "1    1440\n",
       "0    1012\n",
       "Name: vocal_channel, dtype: int64"
      ]
     },
     "execution_count": 15,
     "metadata": {},
     "output_type": "execute_result"
    }
   ],
   "source": [
    "features['vocal_channel'].value_counts()"
   ]
  },
  {
   "cell_type": "markdown",
   "metadata": {},
   "source": [
    "Analizamos si hay valores faltantes:"
   ]
  },
  {
   "cell_type": "code",
   "execution_count": 16,
   "metadata": {},
   "outputs": [
    {
     "data": {
      "text/plain": [
       "Series([], dtype: float64)"
      ]
     },
     "execution_count": 16,
     "metadata": {},
     "output_type": "execute_result"
    }
   ],
   "source": [
    "missing_values_summary(features)"
   ]
  },
  {
   "cell_type": "markdown",
   "metadata": {},
   "source": [
    "Vemos que esta codificado el campo: 0 para speech y 1 para song."
   ]
  },
  {
   "cell_type": "markdown",
   "metadata": {},
   "source": [
    "Partimos en dev y test:"
   ]
  },
  {
   "cell_type": "code",
   "execution_count": 17,
   "metadata": {},
   "outputs": [],
   "source": [
    "random_state = 1\n",
    "test_size    = 0.3"
   ]
  },
  {
   "cell_type": "code",
   "execution_count": 18,
   "metadata": {},
   "outputs": [],
   "source": [
    "X_dev, X_test, y_dev, y_test = train_test_split(\n",
    "    features, \n",
    "    target, \n",
    "    test_size    = test_size, \n",
    "    stratify     = target, \n",
    "    random_state = random_state,\n",
    "    shuffle      = True\n",
    ")"
   ]
  },
  {
   "cell_type": "markdown",
   "metadata": {},
   "source": [
    "#### 2. Ahora vamos a probar modelos con dos estrategias distintas de cross validation."
   ]
  },
  {
   "cell_type": "markdown",
   "metadata": {},
   "source": [
    "**Estrategia 1**: 12-fold cross validation armando los folds de forma aleatoria."
   ]
  },
  {
   "cell_type": "code",
   "execution_count": 40,
   "metadata": {},
   "outputs": [],
   "source": [
    "cv_strategy_1 = KFold(n_splits=12, shuffle=True)"
   ]
  },
  {
   "cell_type": "code",
   "execution_count": 41,
   "metadata": {},
   "outputs": [],
   "source": [
    "X_Dev_input  = exclude_columns(X_dev, special_columns)\n",
    "X_Test_input = exclude_columns(X_test, special_columns)"
   ]
  },
  {
   "cell_type": "code",
   "execution_count": 147,
   "metadata": {},
   "outputs": [],
   "source": [
    "from tqdm import tqdm\n",
    "\n",
    "def cross_validation(create_model_fn, X_train, y_train, cv, groups=None):\n",
    "    metrics = []\n",
    "    time    = 1\n",
    "    times   = cv.get_n_splits(X_train, y_train, groups)\n",
    "    pbar    = tqdm(total=times, position=0, leave=True)\n",
    "    \n",
    "    for train_index, val_index in cv.split(X_train, groups=groups):\n",
    "        x_train  = X_train.to_numpy()[train_index, :]\n",
    "        y_train_ = y_train.to_numpy()[train_index, :]\n",
    "        x_val    = X_train.to_numpy()[val_index, :]\n",
    "        y_val    = y_train.to_numpy()[val_index, :]\n",
    "\n",
    "        model = create_model_fn()\n",
    "        model.fit(x_train, y_train_)\n",
    "\n",
    "        acc = accuracy_score(y_val, model.predict(x_val))\n",
    "        metrics.append(acc)\n",
    "        \n",
    "        pbar.set_description('Model: {}, Accuracy {:.3f} %'.format(time, acc * 100))\n",
    "        pbar.update()\n",
    "        time += 1\n",
    "\n",
    "    print('\\nMean Accuracy: {:.6f} %\\n'.format(np.mean(metrics) * 100))\n",
    "    return metrics"
   ]
  },
  {
   "cell_type": "markdown",
   "metadata": {},
   "source": [
    "Random Forest:"
   ]
  },
  {
   "cell_type": "code",
   "execution_count": 148,
   "metadata": {},
   "outputs": [
    {
     "data": {
      "text/plain": [
       "12"
      ]
     },
     "execution_count": 148,
     "metadata": {},
     "output_type": "execute_result"
    }
   ],
   "source": [
    "cv_strategy_1.n_splits"
   ]
  },
  {
   "cell_type": "code",
   "execution_count": 149,
   "metadata": {},
   "outputs": [
    {
     "name": "stderr",
     "output_type": "stream",
     "text": [
      "Model: 12, Accuracy 62.937 %: 100%|██████████| 12/12 [00:06<00:00,  1.89it/s]"
     ]
    },
    {
     "name": "stdout",
     "output_type": "stream",
     "text": [
      "\n",
      "Mean Accuracy: 65.909091 %\n",
      "\n",
      "CPU times: user 6.38 s, sys: 3.33 ms, total: 6.38 s\n",
      "Wall time: 6.38 s\n"
     ]
    },
    {
     "data": {
      "text/plain": [
       "[0.7062937062937062,\n",
       " 0.6153846153846154,\n",
       " 0.6363636363636364,\n",
       " 0.6153846153846154,\n",
       " 0.6363636363636364,\n",
       " 0.7272727272727273,\n",
       " 0.6223776223776224,\n",
       " 0.7132867132867133,\n",
       " 0.6713286713286714,\n",
       " 0.6783216783216783,\n",
       " 0.6573426573426573,\n",
       " 0.6293706293706294]"
      ]
     },
     "execution_count": 149,
     "metadata": {},
     "output_type": "execute_result"
    }
   ],
   "source": [
    "%%time\n",
    "cross_validation(lambda: RandomForestClassifier(), X_Dev_input, y_dev, cv_strategy_1)"
   ]
  },
  {
   "cell_type": "markdown",
   "metadata": {},
   "source": [
    "Ada Boost:"
   ]
  },
  {
   "cell_type": "code",
   "execution_count": 122,
   "metadata": {},
   "outputs": [
    {
     "name": "stderr",
     "output_type": "stream",
     "text": [
      "Model: 12, Accuracy 37.063 %: 100%|██████████| 12/12 [00:06<00:00,  1.98it/s]"
     ]
    },
    {
     "name": "stdout",
     "output_type": "stream",
     "text": [
      "\n",
      "Mean Accuracy: 38.694639 %\n",
      "\n",
      "CPU times: user 6.07 s, sys: 1 µs, total: 6.07 s\n",
      "Wall time: 6.07 s\n"
     ]
    },
    {
     "data": {
      "text/plain": [
       "[0.4195804195804196,\n",
       " 0.38461538461538464,\n",
       " 0.42657342657342656,\n",
       " 0.34965034965034963,\n",
       " 0.36363636363636365,\n",
       " 0.38461538461538464,\n",
       " 0.3776223776223776,\n",
       " 0.4405594405594406,\n",
       " 0.38461538461538464,\n",
       " 0.3076923076923077,\n",
       " 0.43356643356643354,\n",
       " 0.3706293706293706]"
      ]
     },
     "execution_count": 122,
     "metadata": {},
     "output_type": "execute_result"
    }
   ],
   "source": [
    "%%time\n",
    "cross_validation(lambda: AdaBoostClassifier(), X_Dev_input, y_dev, cv_strategy_1)"
   ]
  },
  {
   "cell_type": "markdown",
   "metadata": {},
   "source": [
    "Gradient Boosting:"
   ]
  },
  {
   "cell_type": "code",
   "execution_count": 123,
   "metadata": {},
   "outputs": [
    {
     "name": "stderr",
     "output_type": "stream",
     "text": [
      "Model: 12, Accuracy 37.063 %: 100%|██████████| 12/12 [00:11<00:00,  1.07it/s]\n",
      "Model: 12, Accuracy 64.336 %: 100%|██████████| 12/12 [00:39<00:00,  3.26s/it]\n",
      "Accuracy 68.531 &: 100%|██████████| 12/12 [13:50<00:00, 69.19s/it]8.22s/it]\n",
      "Time: 11, Accuracy 62.937 %: 100%|██████████| 12/12 [10:40<00:00, 53.40s/it]\n",
      "Model: 12, Accuracy 69.231 %: 100%|██████████| 12/12 [06:33<00:00, 32.82s/it]\n",
      "Model: 12, Accuracy 72.028 %: 100%|██████████| 12/12 [06:46<00:00, 33.89s/it]\n",
      "Model: 3, Accuracy 68.531 %:  25%|██▌       | 3/12 [05:00<15:01, 100.17s/it]\n",
      "Model: 12, Accuracy 62.937 %: 100%|██████████| 12/12 [03:38<00:00, 18.17s/it]"
     ]
    },
    {
     "name": "stdout",
     "output_type": "stream",
     "text": [
      "\n",
      "Mean Accuracy: 65.034965 %\n",
      "\n",
      "CPU times: user 3min 38s, sys: 9.89 ms, total: 3min 38s\n",
      "Wall time: 3min 38s\n"
     ]
    },
    {
     "data": {
      "text/plain": [
       "[0.6293706293706294,\n",
       " 0.6293706293706294,\n",
       " 0.6503496503496503,\n",
       " 0.6713286713286714,\n",
       " 0.7132867132867133,\n",
       " 0.6293706293706294,\n",
       " 0.5944055944055944,\n",
       " 0.6783216783216783,\n",
       " 0.6083916083916084,\n",
       " 0.6503496503496503,\n",
       " 0.7202797202797203,\n",
       " 0.6293706293706294]"
      ]
     },
     "execution_count": 123,
     "metadata": {},
     "output_type": "execute_result"
    }
   ],
   "source": [
    "%%time\n",
    "cross_validation(lambda: GradientBoostingClassifier(), X_Dev_input, y_dev, cv_strategy_1)"
   ]
  },
  {
   "cell_type": "markdown",
   "metadata": {},
   "source": [
    "**Estrategia 2**: Leave-2-speakers out. Es decir, 12 folds conteniendo cada uno 2 actores distintos."
   ]
  },
  {
   "cell_type": "markdown",
   "metadata": {},
   "source": [
    "La siguiente funcion toma todos los posibles valores de la columna especificada en **input_column** los agrupa en grupos de tamaño **group_size** y luego agrega uni nueva columna (**target_column**) donde se especifica cada fila a que grupo pertenese:"
   ]
  },
  {
   "cell_type": "code",
   "execution_count": 139,
   "metadata": {},
   "outputs": [],
   "source": [
    "def sample_groups(X, column, group_size):\n",
    "    numbers = X[column].unique()\n",
    "    sample  = np.random.choice(numbers, size=len(numbers), replace=False)\n",
    "    \n",
    "    return sample.reshape((int(len(numbers) / group_size), group_size))\n",
    "\n",
    "def set_groups(X, column, group_size):\n",
    "    tmp = X.copy()\n",
    "\n",
    "    index = int(max(X[column].unique())) + 1\n",
    "    for group in sample_groups(X, column, group_size):\n",
    "        tmp[column] = tmp[column].apply(lambda x: index if x in group else x)\n",
    "        index += 1\n",
    "\n",
    "    return tmp"
   ]
  },
  {
   "cell_type": "code",
   "execution_count": 140,
   "metadata": {},
   "outputs": [
    {
     "data": {
      "text/plain": [
       "array([[16, 18],\n",
       "       [24,  4],\n",
       "       [ 9,  5],\n",
       "       [ 2,  3],\n",
       "       [17, 10],\n",
       "       [ 1, 11],\n",
       "       [15,  6],\n",
       "       [13,  8],\n",
       "       [14,  7],\n",
       "       [21, 19],\n",
       "       [20, 12],\n",
       "       [23, 22]])"
      ]
     },
     "execution_count": 140,
     "metadata": {},
     "output_type": "execute_result"
    }
   ],
   "source": [
    "sample_groups(X_dev, 'actor', 2)"
   ]
  },
  {
   "cell_type": "code",
   "execution_count": 141,
   "metadata": {},
   "outputs": [],
   "source": [
    "X_dev_tmp = set_groups(X_dev, column='actor', group_size=2)\n",
    "\n",
    "actors_fold_input  = exclude_columns(X_dev_tmp, special_columns)\n",
    "actors_fold_groups = X_dev_tmp['actor']"
   ]
  },
  {
   "cell_type": "markdown",
   "metadata": {},
   "source": [
    "Nos quedan 12 grupos de 2 actores cada uno:"
   ]
  },
  {
   "cell_type": "code",
   "execution_count": 142,
   "metadata": {},
   "outputs": [
    {
     "data": {
      "text/plain": [
       "12"
      ]
     },
     "execution_count": 142,
     "metadata": {},
     "output_type": "execute_result"
    }
   ],
   "source": [
    "len(actors_fold_groups.unique())"
   ]
  },
  {
   "cell_type": "code",
   "execution_count": 143,
   "metadata": {},
   "outputs": [
    {
     "data": {
      "text/plain": [
       "36    156\n",
       "33    153\n",
       "31    150\n",
       "27    147\n",
       "32    146\n",
       "26    145\n",
       "25    143\n",
       "29    143\n",
       "34    142\n",
       "35    140\n",
       "30    138\n",
       "28    113\n",
       "Name: actor, dtype: int64"
      ]
     },
     "execution_count": 143,
     "metadata": {},
     "output_type": "execute_result"
    }
   ],
   "source": [
    "actors_fold_groups.value_counts()"
   ]
  },
  {
   "cell_type": "code",
   "execution_count": 144,
   "metadata": {},
   "outputs": [],
   "source": [
    "cv_strategy_2 = LeaveOneGroupOut()"
   ]
  },
  {
   "cell_type": "markdown",
   "metadata": {},
   "source": [
    "Random Forest:"
   ]
  },
  {
   "cell_type": "code",
   "execution_count": 150,
   "metadata": {},
   "outputs": [
    {
     "name": "stderr",
     "output_type": "stream",
     "text": [
      "Model: 12, Accuracy 58.333 %: 100%|██████████| 12/12 [00:06<00:00,  1.91it/s]"
     ]
    },
    {
     "name": "stdout",
     "output_type": "stream",
     "text": [
      "\n",
      "Mean Accuracy: 53.222929 %\n",
      "\n",
      "CPU times: user 6.32 s, sys: 6.66 ms, total: 6.33 s\n",
      "Wall time: 6.33 s\n"
     ]
    },
    {
     "data": {
      "text/plain": [
       "[0.5594405594405595,\n",
       " 0.5517241379310345,\n",
       " 0.5850340136054422,\n",
       " 0.5663716814159292,\n",
       " 0.4965034965034965,\n",
       " 0.5,\n",
       " 0.46,\n",
       " 0.410958904109589,\n",
       " 0.5098039215686274,\n",
       " 0.5492957746478874,\n",
       " 0.6142857142857143,\n",
       " 0.5833333333333334]"
      ]
     },
     "execution_count": 150,
     "metadata": {},
     "output_type": "execute_result"
    }
   ],
   "source": [
    "%%time\n",
    "cross_validation(lambda: RandomForestClassifier(), actors_fold_input, y_dev, cv_strategy_2, groups=actors_fold_groups)"
   ]
  },
  {
   "cell_type": "markdown",
   "metadata": {},
   "source": [
    "Ada Boost:"
   ]
  },
  {
   "cell_type": "code",
   "execution_count": 151,
   "metadata": {},
   "outputs": [
    {
     "name": "stderr",
     "output_type": "stream",
     "text": [
      "Model: 12, Accuracy 39.103 %: 100%|██████████| 12/12 [00:06<00:00,  1.96it/s]"
     ]
    },
    {
     "name": "stdout",
     "output_type": "stream",
     "text": [
      "\n",
      "Mean Accuracy: 33.880915 %\n",
      "\n",
      "CPU times: user 6.17 s, sys: 0 ns, total: 6.17 s\n",
      "Wall time: 6.17 s\n"
     ]
    },
    {
     "data": {
      "text/plain": [
       "[0.32167832167832167,\n",
       " 0.3931034482758621,\n",
       " 0.3129251700680272,\n",
       " 0.39823008849557523,\n",
       " 0.34965034965034963,\n",
       " 0.34057971014492755,\n",
       " 0.31333333333333335,\n",
       " 0.17123287671232876,\n",
       " 0.38562091503267976,\n",
       " 0.31690140845070425,\n",
       " 0.37142857142857144,\n",
       " 0.391025641025641]"
      ]
     },
     "execution_count": 151,
     "metadata": {},
     "output_type": "execute_result"
    }
   ],
   "source": [
    "%%time\n",
    "cross_validation(lambda: AdaBoostClassifier(), actors_fold_input, y_dev, cv_strategy_2, actors_fold_groups)"
   ]
  },
  {
   "cell_type": "markdown",
   "metadata": {},
   "source": [
    "Gradient Boosting:"
   ]
  },
  {
   "cell_type": "code",
   "execution_count": 152,
   "metadata": {},
   "outputs": [
    {
     "name": "stderr",
     "output_type": "stream",
     "text": [
      "Model: 12, Accuracy 39.103 %: 100%|██████████| 12/12 [00:11<00:00,  1.06it/s]\n",
      "Model: 12, Accuracy 70.629 %: 100%|██████████| 12/12 [03:15<00:00, 16.32s/it]\n",
      "Model: 12, Accuracy 62.937 %: 100%|██████████| 12/12 [01:12<00:00,  6.08s/it]\n",
      "Model: 12, Accuracy 58.333 %: 100%|██████████| 12/12 [01:03<00:00,  5.26s/it]\n",
      "Model: 12, Accuracy 64.103 %: 100%|██████████| 12/12 [03:41<00:00, 18.32s/it]"
     ]
    },
    {
     "name": "stdout",
     "output_type": "stream",
     "text": [
      "\n",
      "Mean Accuracy: 53.765111 %\n",
      "\n",
      "CPU times: user 3min 41s, sys: 3.33 ms, total: 3min 41s\n",
      "Wall time: 3min 41s\n"
     ]
    },
    {
     "data": {
      "text/plain": [
       "[0.5174825174825175,\n",
       " 0.5655172413793104,\n",
       " 0.5918367346938775,\n",
       " 0.584070796460177,\n",
       " 0.5314685314685315,\n",
       " 0.5289855072463768,\n",
       " 0.48,\n",
       " 0.363013698630137,\n",
       " 0.5555555555555556,\n",
       " 0.5,\n",
       " 0.5928571428571429,\n",
       " 0.6410256410256411]"
      ]
     },
     "execution_count": 152,
     "metadata": {},
     "output_type": "execute_result"
    }
   ],
   "source": [
    "%%time\n",
    "cross_validation(lambda: GradientBoostingClassifier(), actors_fold_input, y_dev, cv_strategy_2, actors_fold_groups)"
   ]
  },
  {
   "cell_type": "code",
   "execution_count": 205,
   "metadata": {},
   "outputs": [
    {
     "data": {
      "text/plain": [
       "<module 'matplotlib.pyplot' from '/home/adrian/anaconda3/envs/aa-tp2/lib/python3.8/site-packages/matplotlib/pyplot.py'>"
      ]
     },
     "execution_count": 205,
     "metadata": {},
     "output_type": "execute_result"
    },
    {
     "data": {
      "image/png": "[encoded data removed]",
      "text/plain": [
       "<Figure size 720x1080 with 6 Axes>"
      ]
     },
     "metadata": {
      "needs_background": "light"
     },
     "output_type": "display_data"
    }
   ],
   "source": [
    "\n",
    "fig, axes = plt.subplots(3, 2, figsize=(10, 15))\n",
    "\n",
    "plot_learning_curve(\n",
    "    AdaBoostClassifier(), \n",
    "    actors_fold_input, \n",
    "    y_dev,\n",
    "    cv     = ShuffleSplit(n_splits=100, test_size=0.2, random_state=0),\n",
    "    n_jobs = 24,\n",
    "    axes   = axes[:, 0], \n",
    "    ylim   = (0.7, 1.01)\n",
    ")"
   ]
  },
  {
   "cell_type": "code",
   "execution_count": null,
   "metadata": {},
   "outputs": [],
   "source": []
  }
 ],
 "metadata": {
  "kernelspec": {
   "display_name": "Python 3",
   "language": "python",
   "name": "python3"
  },
  "language_info": {
   "codemirror_mode": {
    "name": "ipython",
    "version": 3
   },
   "file_extension": ".py",
   "mimetype": "text/x-python",
   "name": "python",
   "nbconvert_exporter": "python",
   "pygments_lexer": "ipython3",
   "version": "3.8.5"
  }
 },
 "nbformat": 4,
 "nbformat_minor": 4
}
